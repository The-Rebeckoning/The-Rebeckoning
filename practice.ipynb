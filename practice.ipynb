{
 "cells": [
  {
   "cell_type": "code",
   "execution_count": 12,
   "metadata": {},
   "outputs": [],
   "source": [
    "import random"
   ]
  },
  {
   "cell_type": "code",
   "execution_count": 17,
   "metadata": {},
   "outputs": [
    {
     "name": "stdout",
     "output_type": "stream",
     "text": [
      "[32, 64, 21, 78, 18]\n"
     ]
    }
   ],
   "source": [
    "# Create a list of 10 numbers. Slice the list to get the first 5 elements.\n",
    "\n",
    "test_list = random.sample(range(1, 100), 10)\n",
    "print(test_list[0:5])"
   ]
  },
  {
   "cell_type": "code",
   "execution_count": 21,
   "metadata": {},
   "outputs": [
    {
     "data": {
      "text/plain": [
       "['Houston', 'Phoenix']"
      ]
     },
     "execution_count": 21,
     "metadata": {},
     "output_type": "execute_result"
    }
   ],
   "source": [
    "# Negative Indexing: Create a list with the names of 5 cities. Use negative indexing to access the last 2 cities in the list.\n",
    "cities = [\"New York\", \"Los Angeles\", \"Chicago\", \"Houston\", \"Phoenix\"]\n",
    "\n",
    "last_two = cities[-2:]\n",
    "\n",
    "last_two"
   ]
  },
  {
   "cell_type": "code",
   "execution_count": null,
   "metadata": {},
   "outputs": [
    {
     "data": {
      "text/plain": [
       "[21, 81, 63, 9, 93]"
      ]
     },
     "execution_count": 26,
     "metadata": {},
     "output_type": "execute_result"
    }
   ],
   "source": [
    "#List Comprehension: Given a list of numbers, create a new list with only the even numbers from the original list.\n",
    "even_nums = [n for n in test_list if n % 2 == 0]\n",
    "even_nums"
   ]
  },
  {
   "cell_type": "code",
   "execution_count": 28,
   "metadata": {},
   "outputs": [
    {
     "data": {
      "text/plain": [
       "['is']"
      ]
     },
     "execution_count": 28,
     "metadata": {},
     "output_type": "execute_result"
    }
   ],
   "source": [
    "# Filter Values: Given a list of strings, create a new list containing only the strings that have more than 3 characters.\n",
    "\n",
    "string_list = [\"apple\", \"is\", \"banana\", \"cat\", \"dog\"]\n",
    "\n",
    "filtered_strings = [s for s in string_list if len(s) <  3]\n",
    "filtered_strings"
   ]
  },
  {
   "cell_type": "code",
   "execution_count": null,
   "metadata": {},
   "outputs": [
    {
     "data": {
      "text/plain": [
       "1"
      ]
     },
     "execution_count": 33,
     "metadata": {},
     "output_type": "execute_result"
    }
   ],
   "source": [
    "#List with Conditions: Create a list of numbers and use list slicing to get every second element starting from the first element.\n",
    "\n",
    "numbers = [1, 2, 3, 4, 5, 6, 7, 8, 9, 10]\n",
    "\n",
    "indexes = \n",
    "numbers[0]\n",
    "sliced_list = [n for n in numbers]\n",
    "\n",
    "numbers[0]\n"
   ]
  },
  {
   "cell_type": "code",
   "execution_count": 10,
   "metadata": {},
   "outputs": [
    {
     "data": {
      "text/plain": [
       "'\\nDictionary Subsetting Exercises\\nAccessing Values: Given a dictionary containing information about a person (name, age, city), extract the value associated with the \"age\" key.\\n\\nNested Dictionary: Create a dictionary with keys \\'name\\' and \\'address\\' where \\'address\\' is a nested dictionary containing \\'city\\' and \\'zipcode\\'. Access the \\'zipcode\\' of the person.\\n\\nKeys and Values: Create a dictionary with at least 5 key-value pairs. Use a for loop to print each key and its corresponding value.\\n\\nFiltering Keys: Given a dictionary of product prices, extract the keys where the price is greater than $20.\\n\\nUpdate Values: Given a dictionary with \\'quantity\\' as one of the keys, write code to increase the \\'quantity\\' by 5.\\n\\n'"
      ]
     },
     "execution_count": 10,
     "metadata": {},
     "output_type": "execute_result"
    }
   ],
   "source": [
    "\"\"\"\n",
    "Dictionary Subsetting Exercises\n",
    "Accessing Values: Given a dictionary containing information about a person (name, age, city), extract the value associated with the \"age\" key.\n",
    "\n",
    "Nested Dictionary: Create a dictionary with keys 'name' and 'address' where 'address' is a nested dictionary containing 'city' and 'zipcode'. Access the 'zipcode' of the person.\n",
    "\n",
    "Keys and Values: Create a dictionary with at least 5 key-value pairs. Use a for loop to print each key and its corresponding value.\n",
    "\n",
    "Filtering Keys: Given a dictionary of product prices, extract the keys where the price is greater than $20.\n",
    "\n",
    "Update Values: Given a dictionary with 'quantity' as one of the keys, write code to increase the 'quantity' by 5.\n",
    "\n",
    "\"\"\""
   ]
  }
 ],
 "metadata": {
  "kernelspec": {
   "display_name": ".venv",
   "language": "python",
   "name": "python3"
  },
  "language_info": {
   "codemirror_mode": {
    "name": "ipython",
    "version": 3
   },
   "file_extension": ".py",
   "mimetype": "text/x-python",
   "name": "python",
   "nbconvert_exporter": "python",
   "pygments_lexer": "ipython3",
   "version": "3.12.1"
  }
 },
 "nbformat": 4,
 "nbformat_minor": 2
}
